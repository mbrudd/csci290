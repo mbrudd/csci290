{
  "nbformat": 4,
  "nbformat_minor": 0,
  "metadata": {
    "colab": {
      "provenance": [],
      "authorship_tag": "ABX9TyNH5EWI4YV9ATWKI7fbjT/9",
      "include_colab_link": true
    },
    "kernelspec": {
      "name": "python3",
      "display_name": "Python 3"
    },
    "language_info": {
      "name": "python"
    }
  },
  "cells": [
    {
      "cell_type": "markdown",
      "metadata": {
        "id": "view-in-github",
        "colab_type": "text"
      },
      "source": [
        "<a href=\"https://colab.research.google.com/github/mbrudd/csci290/blob/main/notebooks/Synthetic_data.ipynb\" target=\"_parent\"><img src=\"https://colab.research.google.com/assets/colab-badge.svg\" alt=\"Open In Colab\"/></a>"
      ]
    },
    {
      "cell_type": "code",
      "source": [
        "import pandas as pd\n",
        "import numpy as np"
      ],
      "metadata": {
        "id": "FssKfsTbGh-T"
      },
      "execution_count": null,
      "outputs": []
    },
    {
      "cell_type": "code",
      "source": [
        "np.random.seed(17)"
      ],
      "metadata": {
        "id": "Ybi4ozH7GzXF"
      },
      "execution_count": null,
      "outputs": []
    },
    {
      "cell_type": "code",
      "source": [
        "X = pd.DataFrame( {\"x1\": np.random.randn( 200 ), \"x2\": 2*np.random.randn( 200) - 5, \"x3\": np.random.randint(3, size=200) } )"
      ],
      "metadata": {
        "id": "xDL_0zVYGkbe"
      },
      "execution_count": null,
      "outputs": []
    },
    {
      "cell_type": "code",
      "source": [
        "X"
      ],
      "metadata": {
        "id": "w_bDVVTPG58R"
      },
      "execution_count": null,
      "outputs": []
    },
    {
      "cell_type": "code",
      "source": [
        "X[\"target\"] = (X[\"x1\"] > -2)*(X[\"x2\"] > -7 )*(X[\"x3\"]!=1)*1"
      ],
      "metadata": {
        "id": "wba2kw2-HG1N"
      },
      "execution_count": null,
      "outputs": []
    },
    {
      "cell_type": "code",
      "source": [
        "X"
      ],
      "metadata": {
        "id": "gmAZrH_wHbCP"
      },
      "execution_count": null,
      "outputs": []
    },
    {
      "cell_type": "code",
      "source": [
        "X.hist()"
      ],
      "metadata": {
        "id": "SiBRFzG_HbgC"
      },
      "execution_count": null,
      "outputs": []
    },
    {
      "cell_type": "code",
      "source": [
        "from sklearn.naive_bayes import CategoricalNB, GaussianNB"
      ],
      "metadata": {
        "id": "du_OLAsgHfPW"
      },
      "execution_count": null,
      "outputs": []
    },
    {
      "cell_type": "code",
      "source": [
        "cnb = CategoricalNB().fit( np.array( X[[\"x3\"]] ).reshape(-1,1), np.array( X[\"target\"] ).reshape(-1,1) )"
      ],
      "metadata": {
        "id": "IjJfgFcCHylO"
      },
      "execution_count": null,
      "outputs": []
    },
    {
      "cell_type": "code",
      "source": [
        "cnb.predict( np.array([0,1,2] ).reshape(-1,1) )"
      ],
      "metadata": {
        "id": "jRIPESu7IAeQ"
      },
      "execution_count": null,
      "outputs": []
    },
    {
      "cell_type": "code",
      "source": [
        "gnb = GaussianNB().fit( np.array( X[[\"x1\",\"x2\"]] ), np.array( X[\"target\"] ).reshape(-1,1))"
      ],
      "metadata": {
        "id": "H_cwvTGAILEP"
      },
      "execution_count": null,
      "outputs": []
    },
    {
      "cell_type": "code",
      "source": [
        "gnb.predict( np.array( pd.DataFrame( {\"x1\": [-3,-1.1], \"x2\": [-9,-3] } ) ) )"
      ],
      "metadata": {
        "id": "YmkR-UApIs40"
      },
      "execution_count": null,
      "outputs": []
    },
    {
      "cell_type": "code",
      "source": [],
      "metadata": {
        "id": "fgFQ1srSI31t"
      },
      "execution_count": null,
      "outputs": []
    }
  ]
}