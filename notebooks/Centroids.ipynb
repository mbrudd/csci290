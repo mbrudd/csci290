{
  "nbformat": 4,
  "nbformat_minor": 0,
  "metadata": {
    "colab": {
      "provenance": [],
      "authorship_tag": "ABX9TyNf3PK/hMqN2PEI+zm/1Aqh",
      "include_colab_link": true
    },
    "kernelspec": {
      "name": "python3",
      "display_name": "Python 3"
    },
    "language_info": {
      "name": "python"
    }
  },
  "cells": [
    {
      "cell_type": "markdown",
      "metadata": {
        "id": "view-in-github",
        "colab_type": "text"
      },
      "source": [
        "<a href=\"https://colab.research.google.com/github/mbrudd/csci290/blob/main/notebooks/Centroids.ipynb\" target=\"_parent\"><img src=\"https://colab.research.google.com/assets/colab-badge.svg\" alt=\"Open In Colab\"/></a>"
      ]
    },
    {
      "cell_type": "code",
      "source": [
        "from sklearn.datasets import load_iris\n",
        "import pandas as pd\n",
        "import seaborn as sns\n",
        "import numpy as np"
      ],
      "metadata": {
        "id": "ulqfb-Nf_vRJ"
      },
      "execution_count": null,
      "outputs": []
    },
    {
      "cell_type": "code",
      "source": [
        "iris = load_iris()"
      ],
      "metadata": {
        "id": "fyMNTOya7eNY"
      },
      "execution_count": null,
      "outputs": []
    },
    {
      "cell_type": "code",
      "source": [
        "df = pd.DataFrame( iris.data, columns = iris.feature_names)"
      ],
      "metadata": {
        "id": "VliuZpF__6on"
      },
      "execution_count": null,
      "outputs": []
    },
    {
      "cell_type": "code",
      "source": [
        "df"
      ],
      "metadata": {
        "id": "MObyk53iBY5W"
      },
      "execution_count": null,
      "outputs": []
    },
    {
      "cell_type": "code",
      "source": [
        "df[\"species\"] = iris.target"
      ],
      "metadata": {
        "id": "tcH6bMq2Bbn0"
      },
      "execution_count": null,
      "outputs": []
    },
    {
      "cell_type": "code",
      "source": [
        "target_names = {\n",
        "    0:'setosa',\n",
        "    1:'versicolor',\n",
        "    2:'virginica'\n",
        "}\n",
        "\n",
        "df['species_name'] = df['species'].map(target_names)\n",
        "df.head()"
      ],
      "metadata": {
        "id": "snas5KVsBZpP"
      },
      "execution_count": null,
      "outputs": []
    },
    {
      "cell_type": "code",
      "source": [
        "sns.scatterplot( x = \"petal length (cm)\", y = \"petal width (cm)\", data = df, hue = \"species_name\")"
      ],
      "metadata": {
        "id": "u1EN6gTvBgUA"
      },
      "execution_count": null,
      "outputs": []
    },
    {
      "cell_type": "code",
      "source": [
        "centroids = df.groupby(\"species_name\")[[\"petal length (cm)\", \"petal width (cm)\"]].mean()"
      ],
      "metadata": {
        "id": "AUS4JF3rCCx-"
      },
      "execution_count": null,
      "outputs": []
    },
    {
      "cell_type": "code",
      "source": [
        "centroids"
      ],
      "metadata": {
        "id": "dkGsrTJeC5_H"
      },
      "execution_count": null,
      "outputs": []
    },
    {
      "cell_type": "code",
      "source": [
        "centroids.loc[\"versicolor\"]"
      ],
      "metadata": {
        "id": "ogCZzYHEDFc_"
      },
      "execution_count": null,
      "outputs": []
    },
    {
      "cell_type": "code",
      "source": [
        "sns.scatterplot( x = \"petal length (cm)\", y = \"petal width (cm)\", data = df, hue = \"species_name\")\n",
        "sns.scatterplot( x = \"petal length (cm)\", y = \"petal width (cm)\", data = centroids, c = \"black\", marker=\"X\", s = 100)"
      ],
      "metadata": {
        "id": "JyZ3BDzfDKDq"
      },
      "execution_count": null,
      "outputs": []
    },
    {
      "cell_type": "code",
      "source": [],
      "metadata": {
        "id": "vcgY7d7Z_Pu7"
      },
      "execution_count": null,
      "outputs": []
    }
  ]
}