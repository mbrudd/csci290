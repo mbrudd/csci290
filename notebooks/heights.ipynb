{
  "nbformat": 4,
  "nbformat_minor": 0,
  "metadata": {
    "colab": {
      "provenance": [],
      "authorship_tag": "ABX9TyMfNQyhl9nDeNlB4iwNonpv",
      "include_colab_link": true
    },
    "kernelspec": {
      "name": "python3",
      "display_name": "Python 3"
    },
    "language_info": {
      "name": "python"
    }
  },
  "cells": [
    {
      "cell_type": "markdown",
      "metadata": {
        "id": "view-in-github",
        "colab_type": "text"
      },
      "source": [
        "<a href=\"https://colab.research.google.com/github/mbrudd/csci290/blob/main/notebooks/heights.ipynb\" target=\"_parent\"><img src=\"https://colab.research.google.com/assets/colab-badge.svg\" alt=\"Open In Colab\"/></a>"
      ]
    },
    {
      "cell_type": "code",
      "execution_count": null,
      "metadata": {
        "id": "JnqwKUwPtvKv"
      },
      "outputs": [],
      "source": [
        "import numpy as np\n",
        "import pandas as pd\n",
        "import matplotlib.pyplot as plt\n",
        "import seaborn as sns\n",
        "from sklearn.linear_model import LinearRegression"
      ]
    },
    {
      "cell_type": "code",
      "source": [
        "heights = pd.read_csv(\"https://github.com/mbrudd/csci290/raw/refs/heads/main/data/heights.csv\")"
      ],
      "metadata": {
        "id": "z2zSoSuouJMg"
      },
      "execution_count": null,
      "outputs": []
    },
    {
      "cell_type": "code",
      "source": [
        "heights.hist( edgecolor = \"white\", bins = 20 );"
      ],
      "metadata": {
        "id": "g_R6y0snuN1o"
      },
      "execution_count": null,
      "outputs": []
    },
    {
      "cell_type": "code",
      "source": [
        "heights.plot( kind = 'scatter', x = \"Father\", y = \"Son\")"
      ],
      "metadata": {
        "id": "VMSg11iZuPWm"
      },
      "execution_count": null,
      "outputs": []
    },
    {
      "cell_type": "code",
      "source": [
        "heights.describe()"
      ],
      "metadata": {
        "id": "e_kcbLswu1_a"
      },
      "execution_count": null,
      "outputs": []
    },
    {
      "cell_type": "code",
      "source": [
        "heights[\"Group\"] = heights[\"Father\"].round()"
      ],
      "metadata": {
        "id": "S4QijFeRuxNI"
      },
      "execution_count": null,
      "outputs": []
    },
    {
      "cell_type": "code",
      "source": [
        "heights.head()"
      ],
      "metadata": {
        "id": "DH1SATLXvKbH"
      },
      "execution_count": null,
      "outputs": []
    },
    {
      "cell_type": "code",
      "source": [
        "son_stats = heights.groupby(\"Group\").agg({\"Son\":[\"size\",\"mean\",\"std\"]})\n",
        "son_stats"
      ],
      "metadata": {
        "id": "xWyahzzlvL9X"
      },
      "execution_count": null,
      "outputs": []
    },
    {
      "cell_type": "code",
      "source": [
        "sns.scatterplot( data=heights.query(\"Group!=64\"), x=\"Father\", y=\"Son\", alpha=0.6 )\n",
        "sns.scatterplot( data=heights.query(\"Group==64\"), x=\"Father\", y=\"Son\" )\n",
        "plt.plot( son_stats.query(\"Group==64\").Son[\"mean\"], 'ok' );"
      ],
      "metadata": {
        "id": "AsTnx7hIwV6X"
      },
      "execution_count": null,
      "outputs": []
    },
    {
      "cell_type": "code",
      "source": [
        "sns.scatterplot( data=heights.query(\"Group!=70\"), x=\"Father\", y=\"Son\", alpha=0.6)\n",
        "sns.scatterplot( data=heights.query(\"Group==70\"), x=\"Father\", y=\"Son\")\n",
        "plt.plot( son_stats.query(\"Group==70\").Son[\"mean\"], 'ok' );"
      ],
      "metadata": {
        "id": "t6lla_tewbRl"
      },
      "execution_count": null,
      "outputs": []
    },
    {
      "cell_type": "code",
      "source": [
        "sns.scatterplot(data=heights, x=\"Father\", y=\"Son\",alpha=0.6)\n",
        "plt.plot(son_stats.Son[\"mean\"], 'ok');"
      ],
      "metadata": {
        "id": "sZKGSjeXxASn"
      },
      "execution_count": null,
      "outputs": []
    },
    {
      "cell_type": "code",
      "source": [
        "linear_fit = LinearRegression().fit( np.array(heights[\"Father\"]).reshape(-1,1), np.array(heights[\"Son\"]).reshape(-1,1) )"
      ],
      "metadata": {
        "id": "gCd2xYHPxHdt"
      },
      "execution_count": null,
      "outputs": []
    },
    {
      "cell_type": "code",
      "source": [
        "linear_fit.intercept_, linear_fit.coef_"
      ],
      "metadata": {
        "id": "KdRDYQCGxwhH"
      },
      "execution_count": null,
      "outputs": []
    },
    {
      "cell_type": "code",
      "source": [],
      "metadata": {
        "id": "0wsl_FSzyABH"
      },
      "execution_count": null,
      "outputs": []
    }
  ]
}