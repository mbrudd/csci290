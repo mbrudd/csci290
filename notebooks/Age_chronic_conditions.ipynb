{
  "nbformat": 4,
  "nbformat_minor": 0,
  "metadata": {
    "colab": {
      "provenance": [],
      "authorship_tag": "ABX9TyMCIlVwVprtX8QRAnY10S6u",
      "include_colab_link": true
    },
    "kernelspec": {
      "name": "python3",
      "display_name": "Python 3"
    },
    "language_info": {
      "name": "python"
    }
  },
  "cells": [
    {
      "cell_type": "markdown",
      "metadata": {
        "id": "view-in-github",
        "colab_type": "text"
      },
      "source": [
        "<a href=\"https://colab.research.google.com/github/mbrudd/csci290/blob/main/notebooks/Age_chronic_conditions.ipynb\" target=\"_parent\"><img src=\"https://colab.research.google.com/assets/colab-badge.svg\" alt=\"Open In Colab\"/></a>"
      ]
    },
    {
      "cell_type": "markdown",
      "source": [
        "# Age and chronic conditions"
      ],
      "metadata": {
        "id": "qaHKYfh_DtTs"
      }
    },
    {
      "cell_type": "code",
      "execution_count": null,
      "metadata": {
        "id": "Fi2DHpV0mTIO"
      },
      "outputs": [],
      "source": [
        "import pandas as pd\n",
        "import numpy as np\n",
        "import seaborn as sns\n",
        "import matplotlib.pyplot as plt"
      ]
    },
    {
      "cell_type": "code",
      "source": [
        "chronic = pd.read_csv(\"https://github.com/mbrudd/csci290/raw/refs/heads/main/data/chronic.csv\")"
      ],
      "metadata": {
        "id": "dnHbRBSHmVdt"
      },
      "execution_count": null,
      "outputs": []
    },
    {
      "cell_type": "markdown",
      "source": [
        "This dataset is from the 2009 [National Ambulatory Medical Care Survey (NAMCS)](https://health.gov/healthypeople/objectives-and-data/data-sources-and-methods/data-sources/national-ambulatory-medical-care-survey-namcs) -- `Condition` is a binary variable that indicates whether a patient has one of the following chronic conditions: arthritis, asthma, COPD, cancer, depression, diabetes, hyperlipidemia, hypertension, obesity, osteoporosis,\n",
        "cerebrovascular disease, chronic renal failure, congestive heart failure, or ischemic heart disease. This is quite a list!"
      ],
      "metadata": {
        "id": "3yg3G24ID327"
      }
    },
    {
      "cell_type": "code",
      "source": [
        "chronic"
      ],
      "metadata": {
        "id": "_Bg8B4YToNmC"
      },
      "execution_count": null,
      "outputs": []
    },
    {
      "cell_type": "code",
      "source": [
        "chronic[\"Condition\"].mean()"
      ],
      "metadata": {
        "id": "UkNJrAsKoO45"
      },
      "execution_count": null,
      "outputs": []
    },
    {
      "cell_type": "code",
      "source": [
        "chronic.groupby(\"Condition\").size()"
      ],
      "metadata": {
        "id": "agQAJrnFoa8y"
      },
      "execution_count": null,
      "outputs": []
    },
    {
      "cell_type": "code",
      "source": [
        "chronic.plot.scatter(x=\"Age\", y=\"Condition\");"
      ],
      "metadata": {
        "id": "CwJcIfWVonEK"
      },
      "execution_count": null,
      "outputs": []
    },
    {
      "cell_type": "code",
      "source": [
        "chronic.groupby(\"Age\", as_index=False)[\"Condition\"].mean().plot.scatter(x=\"Age\",y=\"Condition\");"
      ],
      "metadata": {
        "id": "i06f_AAyoxaw"
      },
      "execution_count": null,
      "outputs": []
    },
    {
      "cell_type": "code",
      "source": [
        "ages = chronic.groupby(\"Age\", as_index=False)[\"Condition\"].mean()\n",
        "ages"
      ],
      "metadata": {
        "id": "SPPKHd1yClmF"
      },
      "execution_count": null,
      "outputs": []
    },
    {
      "cell_type": "code",
      "source": [
        "chronic[\"Decade\"] = 10*round( chronic[\"Age\"] / 10 )"
      ],
      "metadata": {
        "id": "lFAMKKdQpR6z"
      },
      "execution_count": null,
      "outputs": []
    },
    {
      "cell_type": "code",
      "source": [
        "decades = chronic.groupby(\"Decade\", as_index=False)[\"Condition\"].mean()\n",
        "decades"
      ],
      "metadata": {
        "id": "xdtr5yZFp0KJ"
      },
      "execution_count": null,
      "outputs": []
    },
    {
      "cell_type": "code",
      "source": [
        "sns.set_theme()\n",
        "sns.regplot(data=chronic,\n",
        "             x=\"Age\", y=\"Condition\",\n",
        "             logistic=True, scatter=False,\n",
        "             ci=None, line_kws={\"lw\":\"4\"})\n",
        "plt.xlim(-5,105)\n",
        "plt.ylabel(\"Rate\")\n",
        "plt.plot( ages[\"Age\"], ages[\"Condition\"],'.k')\n",
        "plt.plot( decades[\"Decade\"], decades[\"Condition\"],'or',ms=6);"
      ],
      "metadata": {
        "id": "pdIzZ8Ump7ba"
      },
      "execution_count": null,
      "outputs": []
    },
    {
      "cell_type": "code",
      "source": [
        "z = np.linspace(-5,5,1000)\n",
        "sigma = 1 / ( 1 + np.exp(-z))\n",
        "plt.plot(z, sigma)\n",
        "plt.xlabel(\"z\")\n",
        "plt.ylabel(r\"$\\sigma(z)$\")\n",
        "plt.title(\"The logistic function\");"
      ],
      "metadata": {
        "id": "VtYTDBoTDEvA"
      },
      "execution_count": null,
      "outputs": []
    },
    {
      "cell_type": "code",
      "source": [],
      "metadata": {
        "id": "w3UiCLFfDjZU"
      },
      "execution_count": null,
      "outputs": []
    }
  ]
}